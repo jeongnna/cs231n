{
 "cells": [
  {
   "cell_type": "code",
   "execution_count": 50,
   "metadata": {},
   "outputs": [],
   "source": [
    "import numpy as np\n",
    "import random"
   ]
  },
  {
   "cell_type": "code",
   "execution_count": 51,
   "metadata": {},
   "outputs": [],
   "source": [
    "N = 6\n",
    "D = 10\n",
    "K = 4\n",
    "reg = 0.001"
   ]
  },
  {
   "cell_type": "code",
   "execution_count": 52,
   "metadata": {},
   "outputs": [
    {
     "name": "stdout",
     "output_type": "stream",
     "text": [
      "[[-2.13890553  0.18847551 -0.4207456  -0.9684808   0.78266339 -1.43311823\n",
      "  -0.96834831  0.91851453  1.77131695  0.69453329]\n",
      " [-0.65802903 -0.329585   -0.55068889  0.40895167 -2.61717952 -0.3072905\n",
      "   0.28092368  2.03445681 -0.32605587  1.28066922]\n",
      " [ 1.17026119  0.45197821  0.32235943  0.47363539  0.5523032  -1.39076295\n",
      "   1.61576147  0.11378152  0.0170978   1.16600772]\n",
      " [-0.358063   -0.0331604   0.90922674  0.3889358   1.61494418  1.13822952\n",
      "   0.24420246  0.61927065  0.3823539  -0.40211297]\n",
      " [ 0.83518475 -0.77238993  0.82524398  0.1769663  -0.07668824 -1.5993572\n",
      "   1.10744992 -0.56725058  1.14122866 -0.71634278]\n",
      " [ 0.71587813 -0.05414087 -0.25794831 -1.0810077  -0.8607779   1.68595415\n",
      "   1.10029267 -0.3864075  -0.7007725   0.27731918]]\n",
      "[3, 2, 1, 3, 0, 1]\n"
     ]
    }
   ],
   "source": [
    "X = np.random.randn(N, D)\n",
    "y = [random.choice(range(K)) for _ in range(N)]\n",
    "print(x)\n",
    "print(y)"
   ]
  },
  {
   "cell_type": "code",
   "execution_count": 166,
   "metadata": {
    "scrolled": true
   },
   "outputs": [
    {
     "data": {
      "text/plain": [
       "array([[8.05165467e-01, 1.49572772e-01, 3.57788488e-02, 9.48291154e-03],\n",
       "       [1.03430701e-01, 1.91765789e-01, 4.84495423e-05, 7.04755061e-01],\n",
       "       [1.41344779e-02, 9.67168358e-01, 5.07205970e-03, 1.36251044e-02],\n",
       "       [8.83352873e-03, 1.60325293e-02, 2.64209915e-05, 9.75107521e-01],\n",
       "       [5.70450261e-07, 2.53337160e-03, 9.97463338e-01, 2.71956901e-06],\n",
       "       [1.38074311e-02, 1.25155605e-05, 9.84186201e-01, 1.99385248e-03]])"
      ]
     },
     "execution_count": 166,
     "metadata": {},
     "output_type": "execute_result"
    }
   ],
   "source": [
    "np.random.seed(123)\n",
    "W = np.random.randn(D, K)\n",
    "scores = X.dot(W)\n",
    "exp_scores = np.exp(scores)\n",
    "probs = exp_scores / np.sum(exp_scores, axis=1, keepdims=True)\n",
    "probs"
   ]
  },
  {
   "cell_type": "markdown",
   "metadata": {},
   "source": [
    "## Vectorized"
   ]
  },
  {
   "cell_type": "code",
   "execution_count": 156,
   "metadata": {},
   "outputs": [
    {
     "data": {
      "text/plain": [
       "array([[ 1.34194245e-01,  2.49287954e-02,  5.96314147e-03,\n",
       "        -1.65086181e-01],\n",
       "       [ 1.72384502e-02,  3.19609648e-02, -1.66658592e-01,\n",
       "         1.17459177e-01],\n",
       "       [ 2.35574632e-03, -5.47194034e-03,  8.45343283e-04,\n",
       "         2.27085073e-03],\n",
       "       [ 1.47225479e-03,  2.67208821e-03,  4.40349858e-06,\n",
       "        -4.14874650e-03],\n",
       "       [-1.66666572e-01,  4.22228600e-04,  1.66243890e-01,\n",
       "         4.53261501e-07],\n",
       "       [ 2.30123852e-03, -1.66664581e-01,  1.64031033e-01,\n",
       "         3.32308746e-04]])"
      ]
     },
     "execution_count": 156,
     "metadata": {},
     "output_type": "execute_result"
    }
   ],
   "source": [
    "dscores = probs\n",
    "dscores[range(N), y] -= 1\n",
    "dscores /= N\n",
    "dscores"
   ]
  },
  {
   "cell_type": "code",
   "execution_count": 157,
   "metadata": {},
   "outputs": [
    {
     "data": {
      "text/plain": [
       "array([[-0.15757917, -0.09003765,  0.33723153, -0.09092632],\n",
       "       [ 0.05157652,  0.33813746, -0.36632435, -0.02517239],\n",
       "       [ 0.27602942, -0.13895805, -0.16014345,  0.02269768],\n",
       "       [ 0.39153984, -0.12869345, -0.16006308, -0.10280917],\n",
       "       [ 0.14289062,  0.17564488, -0.17476029, -0.13799225],\n",
       "       [ 0.22735523,  0.01845562, -0.28272037,  0.03937762],\n",
       "       [-0.37275492, -0.08362882,  0.4042006 ,  0.04976993],\n",
       "       [-0.13033944, -0.06690754,  0.38087059, -0.18767965],\n",
       "       [-0.01294476, -0.10060145,  0.20460141, -0.09277279],\n",
       "       [-0.02169277,  0.14725722, -0.60722865,  0.48175936]])"
      ]
     },
     "execution_count": 157,
     "metadata": {},
     "output_type": "execute_result"
    }
   ],
   "source": [
    "dW = X.T.dot(dscores)\n",
    "dW += reg * W\n",
    "dW"
   ]
  },
  {
   "cell_type": "markdown",
   "metadata": {},
   "source": [
    "## Numerical"
   ]
  },
  {
   "cell_type": "code",
   "execution_count": 167,
   "metadata": {},
   "outputs": [
    {
     "data": {
      "text/plain": [
       "array([[-0.18909489,  0.40496911, -0.19100537, -0.12465693],\n",
       "       [-0.18848123,  0.40576471, -0.19427448, -0.12336246],\n",
       "       [-0.18626222,  0.40273104, -0.19217202, -0.12296022],\n",
       "       [-0.1859888 ,  0.40300469, -0.19189014, -0.12337092],\n",
       "       [-0.18513758,  0.40640306, -0.1901529 , -0.12238718],\n",
       "       [-0.18689771,  0.40556388, -0.19248342, -0.12143519],\n",
       "       [-0.18930216,  0.4030072 , -0.19025476, -0.12456028],\n",
       "       [-0.18795955,  0.40273882, -0.19165058, -0.12621007],\n",
       "       [-0.18991433,  0.40293223, -0.19023532, -0.12305782],\n",
       "       [-0.18778534,  0.40460411, -0.19242398, -0.12249475]])"
      ]
     },
     "execution_count": 167,
     "metadata": {},
     "output_type": "execute_result"
    }
   ],
   "source": [
    "for i in range(N):\n",
    "  scores = X[i].dot(W) # [1 * num_classes]\n",
    "  scores -= np.max(scores)\n",
    "\n",
    "  exp_scores = np.exp(scores)\n",
    "  probs = exp_scores / np.sum(exp_scores)\n",
    "  loss += -np.log(probs[y[i]])\n",
    "\n",
    "  for k in range(K):\n",
    "    probs[i, y[i]] -= 1\n",
    "    dW[:, k] += probs[i] *\n",
    "\n",
    "dW /= N\n",
    "dW += reg * W\n",
    "dW"
   ]
  },
  {
   "cell_type": "code",
   "execution_count": 168,
   "metadata": {},
   "outputs": [
    {
     "data": {
      "text/plain": [
       "array([[-2.13890553,  0.18847551, -0.4207456 , -0.9684808 ,  0.78266339,\n",
       "        -1.43311823, -0.96834831,  0.91851453,  1.77131695,  0.69453329],\n",
       "       [-0.65802903, -0.329585  , -0.55068889,  0.40895167, -2.61717952,\n",
       "        -0.3072905 ,  0.28092368,  2.03445681, -0.32605587,  1.28066922],\n",
       "       [ 1.17026119,  0.45197821,  0.32235943,  0.47363539,  0.5523032 ,\n",
       "        -1.39076295,  1.61576147,  0.11378152,  0.0170978 ,  1.16600772],\n",
       "       [-0.358063  , -0.0331604 ,  0.90922674,  0.3889358 ,  1.61494418,\n",
       "         1.13822952,  0.24420246,  0.61927065,  0.3823539 , -0.40211297],\n",
       "       [ 0.83518475, -0.77238993,  0.82524398,  0.1769663 , -0.07668824,\n",
       "        -1.5993572 ,  1.10744992, -0.56725058,  1.14122866, -0.71634278],\n",
       "       [ 0.71587813, -0.05414087, -0.25794831, -1.0810077 , -0.8607779 ,\n",
       "         1.68595415,  1.10029267, -0.3864075 , -0.7007725 ,  0.27731918]])"
      ]
     },
     "execution_count": 168,
     "metadata": {},
     "output_type": "execute_result"
    }
   ],
   "source": [
    "x"
   ]
  },
  {
   "cell_type": "code",
   "execution_count": 169,
   "metadata": {},
   "outputs": [
    {
     "data": {
      "text/plain": [
       "array([8, 7, 6, 4, 8, 5], dtype=int64)"
      ]
     },
     "execution_count": 169,
     "metadata": {},
     "output_type": "execute_result"
    }
   ],
   "source": [
    "np.argmax(x, axis = 1)"
   ]
  },
  {
   "cell_type": "code",
   "execution_count": 176,
   "metadata": {},
   "outputs": [
    {
     "data": {
      "text/plain": [
       "{(3, 4): 0, (1, 5): 1}"
      ]
     },
     "execution_count": 176,
     "metadata": {},
     "output_type": "execute_result"
    }
   ],
   "source": [
    "x = {}\n",
    "x[(3, 4)] = 0\n",
    "x[(1, 5)] = 1\n",
    "x"
   ]
  },
  {
   "cell_type": "code",
   "execution_count": 179,
   "metadata": {},
   "outputs": [
    {
     "name": "stdout",
     "output_type": "stream",
     "text": [
      "2\n",
      "1\n"
     ]
    }
   ],
   "source": [
    "x = 1\n",
    "y = x\n",
    "x = 2\n",
    "print(x)\n",
    "print(y)"
   ]
  },
  {
   "cell_type": "code",
   "execution_count": 180,
   "metadata": {},
   "outputs": [
    {
     "name": "stdout",
     "output_type": "stream",
     "text": [
      "[1, 2, 1, 2]\n",
      "[2 4]\n"
     ]
    }
   ],
   "source": [
    "x = [1, 2]\n",
    "y = np.array([1, 2])\n",
    "print(x * 2)\n",
    "print(y * 2)"
   ]
  }
 ],
 "metadata": {
  "kernelspec": {
   "display_name": "Python 3",
   "language": "python",
   "name": "python3"
  },
  "language_info": {
   "codemirror_mode": {
    "name": "ipython",
    "version": 3
   },
   "file_extension": ".py",
   "mimetype": "text/x-python",
   "name": "python",
   "nbconvert_exporter": "python",
   "pygments_lexer": "ipython3",
   "version": "3.7.1"
  }
 },
 "nbformat": 4,
 "nbformat_minor": 2
}
